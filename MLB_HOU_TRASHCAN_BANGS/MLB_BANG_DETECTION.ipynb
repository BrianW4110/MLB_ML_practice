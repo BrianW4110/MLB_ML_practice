{
 "cells": [
  {
   "cell_type": "code",
   "execution_count": null,
   "metadata": {},
   "outputs": [],
   "source": [
    "import os\n",
    "import numpy as np\n",
    "import soundfile as sf # for opening FLAC\n",
    "import librosa # for MFCC\n",
    "from scipy.signal import spectrogram\n",
    "\n",
    "path_dir = \"\"\n",
    "\n",
    "for filename in os.listdir(path_dir):\n",
    "    file_path = os.path.join(path_dir, filename)\n",
    "    audio_data, sample_rate = sf.read(file_path)\n",
    "\n",
    "    frequencies, times, spectrogram_data = spectrogram(audio_data, sample_rate)\n",
    "\n"
   ]
  }
 ],
 "metadata": {
  "language_info": {
   "name": "python"
  }
 },
 "nbformat": 4,
 "nbformat_minor": 2
}
