{
 "cells": [
  {
   "cell_type": "code",
   "execution_count": 32,
   "metadata": {},
   "outputs": [],
   "source": [
    "## MLB bang detection\n",
    "#add data to dataframe\n",
    "import os\n",
    "import numpy as np\n",
    "import soundfile as sf # for opening FLAC\n",
    "import librosa # for MFCC\n",
    "from scipy.signal import spectrogram\n",
    "\n",
    "audio_features = [] # array of matrices (spectrograms) -> used as features for model\n",
    "labels = [] # bang(1) or no bang(0)\n",
    "\n",
    "# add training data with no bangs\n",
    "path_dir_nbang = \"no_bang\"  # folder with training data with no anomaly present\n",
    "\n",
    "for filename in os.listdir(path_dir_nbang):\n",
    "    file_path = os.path.join(path_dir_nbang, filename)\n",
    "    audio_data, sample_rate = sf.read(file_path)\n",
    "\n",
    "    frequencies, times, spectrogram_data = spectrogram(audio_data, sample_rate)\n",
    "    audio_features.append(spectrogram_data.flatten().reshape(-1))\n",
    "    # use directory as name of label\n",
    "    labels.append(0)\n",
    "\n",
    "# add training data with bangs\n",
    "path_dir_bang = \"bang\"  # folder with training data with anomaly present\n",
    "\n",
    "for filename in os.listdir(path_dir_bang):\n",
    "    file_path = os.path.join(path_dir_bang, filename)\n",
    "    audio_data, sample_rate = sf.read(file_path)\n",
    "\n",
    "    frequencies, times, spectrogram_data = spectrogram(audio_data, sample_rate)\n",
    "\n",
    "    audio_features.append(spectrogram_data.flatten().reshape(-1))\n",
    "    # use directory as name of label\n",
    "    labels.append(1)"
   ]
  },
  {
   "cell_type": "code",
   "execution_count": 34,
   "metadata": {},
   "outputs": [
    {
     "name": "stdout",
     "output_type": "stream",
     "text": [
      "0.5833333333333334\n"
     ]
    }
   ],
   "source": [
    "from sklearn.model_selection import train_test_split\n",
    "from sklearn.ensemble import RandomForestClassifier\n",
    "from sklearn.metrics import accuracy_score\n",
    "\n",
    "audio_features = np.array(audio_features, dtype=\"object\")\n",
    "labels = np.array(labels, dtype=\"object\")\n",
    "\n",
    "X_train, X_test, y_train, y_test = train_test_split(audio_features, labels, test_size = .2, random_state = 727)\n",
    "\n",
    "X_train = np.concatenate(X_train).reshape(len(X_train), -1) # ensures X_train is 2d because audio_features is 1d\n",
    "y_train = np.ravel(y_train).astype(int) # ensures type and 1d y_train\n",
    "\n",
    "random_forst_classifier = RandomForestClassifier(n_estimators = 50, random_state = 727)\n",
    "\n",
    "random_forst_classifier.fit(X_train, y_train)\n",
    "\n",
    "X_test = np.concatenate(X_test).reshape(len(X_test), -1)\n",
    "y_test = np.ravel(y_test).astype(int)\n",
    "\n",
    "print(random_forst_classifier.score(X_test, y_test))"
   ]
  }
 ],
 "metadata": {
  "kernelspec": {
   "display_name": "Python 3",
   "language": "python",
   "name": "python3"
  },
  "language_info": {
   "codemirror_mode": {
    "name": "ipython",
    "version": 3
   },
   "file_extension": ".py",
   "mimetype": "text/x-python",
   "name": "python",
   "nbconvert_exporter": "python",
   "pygments_lexer": "ipython3",
   "version": "3.11.4"
  }
 },
 "nbformat": 4,
 "nbformat_minor": 2
}
