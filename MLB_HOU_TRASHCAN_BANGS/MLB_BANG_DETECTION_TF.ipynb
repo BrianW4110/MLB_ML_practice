{
 "cells": [
  {
   "cell_type": "code",
   "execution_count": null,
   "metadata": {},
   "outputs": [],
   "source": [
    "## MLB bang detection with Convolutional Neural Network\n",
    "import tensorflow as tf\n",
    "# CNN"
   ]
  }
 ],
 "metadata": {
  "language_info": {
   "name": "python"
  }
 },
 "nbformat": 4,
 "nbformat_minor": 2
}
